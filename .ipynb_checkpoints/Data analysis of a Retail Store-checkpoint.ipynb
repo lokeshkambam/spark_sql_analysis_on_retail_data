{
 "cells": [
  {
   "cell_type": "code",
   "execution_count": 22,
   "id": "604ce86e",
   "metadata": {},
   "outputs": [
    {
     "name": "stdout",
     "output_type": "stream",
     "text": [
      "Requirement already satisfied: findspark in d:\\anaconda-3\\lib\\site-packages (2.0.1)\n"
     ]
    },
    {
     "name": "stderr",
     "output_type": "stream",
     "text": [
      "WARNING: Ignoring invalid distribution -arkupsafe (d:\\anaconda-3\\lib\\site-packages)\n",
      "WARNING: Ignoring invalid distribution -arkupsafe (d:\\anaconda-3\\lib\\site-packages)\n",
      "WARNING: Ignoring invalid distribution -arkupsafe (d:\\anaconda-3\\lib\\site-packages)\n",
      "WARNING: Ignoring invalid distribution -arkupsafe (d:\\anaconda-3\\lib\\site-packages)\n",
      "WARNING: Ignoring invalid distribution -arkupsafe (d:\\anaconda-3\\lib\\site-packages)\n",
      "WARNING: Ignoring invalid distribution -arkupsafe (d:\\anaconda-3\\lib\\site-packages)\n",
      "WARNING: You are using pip version 22.0.4; however, version 22.2.2 is available.\n",
      "You should consider upgrading via the 'd:\\anaconda-3\\python.exe -m pip install --upgrade pip' command.\n"
     ]
    }
   ],
   "source": [
    "!pip install findspark"
   ]
  },
  {
   "cell_type": "code",
   "execution_count": 15,
   "id": "19db63d2",
   "metadata": {},
   "outputs": [],
   "source": [
    "import findspark"
   ]
  },
  {
   "cell_type": "code",
   "execution_count": 16,
   "id": "f84310bb",
   "metadata": {},
   "outputs": [
    {
     "data": {
      "text/plain": [
       "'C:\\\\spark-3.0.3-bin-hadoop3.2'"
      ]
     },
     "execution_count": 16,
     "metadata": {},
     "output_type": "execute_result"
    }
   ],
   "source": [
    "findspark.find()"
   ]
  },
  {
   "cell_type": "code",
   "execution_count": 17,
   "id": "7e42036f",
   "metadata": {},
   "outputs": [],
   "source": [
    "findspark.init()"
   ]
  },
  {
   "cell_type": "code",
   "execution_count": 18,
   "id": "13e1e2d0",
   "metadata": {},
   "outputs": [],
   "source": [
    "import os\n",
    "import pandas as pd\n",
    "import numpy as np\n",
    "\n",
    "from pyspark import SparkConf, SparkContext\n",
    "from pyspark.sql import SparkSession, SQLContext\n",
    "\n",
    "from pyspark.sql.types import *\n",
    "from pyspark.sql.window import Window\n",
    "\n",
    "import pyspark.sql.functions as F\n",
    "from pyspark.sql.functions import udf, col"
   ]
  },
  {
   "cell_type": "code",
   "execution_count": 19,
   "id": "cf3a5ecd",
   "metadata": {},
   "outputs": [],
   "source": [
    "# Visualization\n",
    "import seaborn as sns\n",
    "import matplotlib.pyplot as plt"
   ]
  },
  {
   "cell_type": "code",
   "execution_count": 20,
   "id": "d7e4fc7c",
   "metadata": {},
   "outputs": [],
   "source": [
    "# Visualization\n",
    "from IPython.core.interactiveshell import InteractiveShell\n",
    "InteractiveShell.ast_node_interactivity = \"all\"\n",
    "\n",
    "pd.set_option('display.max_columns', 50)\n",
    "pd.set_option('display.max_colwidth', 50)\n",
    "\n",
    "sns.set(context='notebook', style='whitegrid', rc={'figure.figsize': (18,4)})\n",
    "#rcParams['figure.figsize'] = 18,4"
   ]
  },
  {
   "cell_type": "code",
   "execution_count": 21,
   "id": "e8a7ed46",
   "metadata": {},
   "outputs": [],
   "source": [
    "# this allows plots to appear directly in the notebook\n",
    "%matplotlib inline\n",
    "%config InlineBackend.figure_format = 'retina'"
   ]
  },
  {
   "cell_type": "code",
   "execution_count": 22,
   "id": "116a12bd",
   "metadata": {},
   "outputs": [],
   "source": [
    "from matplotlib import rcParams\n",
    "rcParams['figure.figsize'] = 18,4"
   ]
  },
  {
   "cell_type": "code",
   "execution_count": 23,
   "id": "9fbbf7df",
   "metadata": {},
   "outputs": [],
   "source": [
    "# setting random seed for notebook reproducability\n",
    "rnd_seed=23\n",
    "np.random.seed=rnd_seed\n",
    "np.random.set_state=rnd_seed"
   ]
  },
  {
   "cell_type": "markdown",
   "id": "bb413845",
   "metadata": {},
   "source": [
    "## 1. Understanding the Data Set:\n",
    "```\n",
    "mysql> describe customers;\n",
    "+-------------------+--------------+------+-----+---------+----------------+\n",
    "| Field             | Type         | Null | Key | Default | Extra          |\n",
    "+-------------------+--------------+------+-----+---------+----------------+\n",
    "| customer_id       | int(11)      | NO   | PRI | NULL    | auto_increment |\n",
    "| customer_fname    | varchar(45)  | NO   |     | NULL    |                |\n",
    "| customer_lname    | varchar(45)  | NO   |     | NULL    |                |\n",
    "| customer_email    | varchar(45)  | NO   |     | NULL    |                |\n",
    "| customer_password | varchar(45)  | NO   |     | NULL    |                |\n",
    "| customer_street   | varchar(255) | NO   |     | NULL    |                |\n",
    "| customer_city     | varchar(45)  | NO   |     | NULL    |                |\n",
    "| customer_state    | varchar(45)  | NO   |     | NULL    |                |\n",
    "| customer_zipcode  | varchar(45)  | NO   |     | NULL    |                |\n",
    "+-------------------+--------------+------+-----+---------+----------------+\n",
    "\n",
    "mysql> describe departments;\n",
    "+-----------------+-------------+------+-----+---------+----------------+\n",
    "| Field           | Type        | Null | Key | Default | Extra          |\n",
    "+-----------------+-------------+------+-----+---------+----------------+\n",
    "| department_id   | int(11)     | NO   | PRI | NULL    | auto_increment |\n",
    "| department_name | varchar(45) | NO   |     | NULL    |                |\n",
    "+-----------------+-------------+------+-----+---------+----------------+\n",
    "\n",
    "mysql> describe categories;\n",
    "+------------------------+-------------+------+-----+---------+----------------+\n",
    "| Field                  | Type        | Null | Key | Default | Extra          |\n",
    "+------------------------+-------------+------+-----+---------+----------------+\n",
    "| category_id            | int(11)     | NO   | PRI | NULL    | auto_increment |\n",
    "| category_department_id | int(11)     | NO   |     | NULL    |                |\n",
    "| category_name          | varchar(45) | NO   |     | NULL    |                |\n",
    "+------------------------+-------------+------+-----+---------+----------------+\n",
    "\n",
    "mysql> describe products;\n",
    "+---------------------+--------------+------+-----+---------+----------------+\n",
    "| Field               | Type         | Null | Key | Default | Extra          |\n",
    "+---------------------+--------------+------+-----+---------+----------------+\n",
    "| product_id          | int(11)      | NO   | PRI | NULL    | auto_increment |\n",
    "| product_category_id | int(11)      | NO   |     | NULL    |                |\n",
    "| product_name        | varchar(45)  | NO   |     | NULL    |                |\n",
    "| product_description | varchar(255) | NO   |     | NULL    |                |\n",
    "| product_price       | float        | NO   |     | NULL    |                |\n",
    "| product_image       | varchar(255) | NO   |     | NULL    |                |\n",
    "+---------------------+--------------+------+-----+---------+----------------+\n",
    "\n",
    "mysql> describe orders;\n",
    "+-------------------+-------------+------+-----+---------+----------------+\n",
    "| Field             | Type        | Null | Key | Default | Extra          |\n",
    "+-------------------+-------------+------+-----+---------+----------------+\n",
    "| order_id          | int(11)     | NO   | PRI | NULL    | auto_increment |\n",
    "| order_date        | datetime    | NO   |     | NULL    |                |\n",
    "| order_customer_id | int(11)     | NO   |     | NULL    |                |\n",
    "| order_status      | varchar(45) | NO   |     | NULL    |                |\n",
    "+-------------------+-------------+------+-----+---------+----------------+\n",
    "\n",
    "mysql> describe order_items;\n",
    "+--------------------------+------------+------+-----+---------+----------------+\n",
    "| Field                    | Type       | Null | Key | Default | Extra          |\n",
    "+--------------------------+------------+------+-----+---------+----------------+\n",
    "| order_item_id            | int(11)    | NO   | PRI | NULL    | auto_increment |\n",
    "| order_item_order_id      | int(11)    | NO   |     | NULL    |                |\n",
    "| order_item_product_id    | int(11)    | NO   |     | NULL    |                |\n",
    "| order_item_quantity      | tinyint(4) | NO   |     | NULL    |                |\n",
    "| order_item_subtotal      | float      | NO   |     | NULL    |                |\n",
    "| order_item_product_price | float      | NO   |     | NULL    |                |\n",
    "+--------------------------+------------+------+-----+---------+----------------+\n",
    "```"
   ]
  },
  {
   "cell_type": "markdown",
   "id": "91531591",
   "metadata": {},
   "source": [
    "## 2. Creating the Spark Session:"
   ]
  },
  {
   "cell_type": "code",
   "execution_count": 24,
   "id": "732ccf82",
   "metadata": {},
   "outputs": [],
   "source": [
    "spark = (SparkSession\n",
    "         .builder\n",
    "         .master(\"local[*]\")\n",
    "         .appName(\"\")\n",
    "         .getOrCreate())"
   ]
  },
  {
   "cell_type": "code",
   "execution_count": 25,
   "id": "5bf84fd6",
   "metadata": {},
   "outputs": [
    {
     "data": {
      "text/html": [
       "\n",
       "            <div>\n",
       "                <p><b>SparkSession - in-memory</b></p>\n",
       "                \n",
       "        <div>\n",
       "            <p><b>SparkContext</b></p>\n",
       "\n",
       "            <p><a href=\"http://MSI:4040\">Spark UI</a></p>\n",
       "\n",
       "            <dl>\n",
       "              <dt>Version</dt>\n",
       "                <dd><code>v3.0.3</code></dd>\n",
       "              <dt>Master</dt>\n",
       "                <dd><code>local[*]</code></dd>\n",
       "              <dt>AppName</dt>\n",
       "                <dd><code>retail-database-analysis-python</code></dd>\n",
       "            </dl>\n",
       "        </div>\n",
       "        \n",
       "            </div>\n",
       "        "
      ],
      "text/plain": [
       "<pyspark.sql.session.SparkSession at 0x26213161c70>"
      ]
     },
     "execution_count": 25,
     "metadata": {},
     "output_type": "execute_result"
    }
   ],
   "source": [
    "spark"
   ]
  },
  {
   "cell_type": "code",
   "execution_count": 26,
   "id": "42e30b7c",
   "metadata": {},
   "outputs": [
    {
     "data": {
      "text/html": [
       "\n",
       "        <div>\n",
       "            <p><b>SparkContext</b></p>\n",
       "\n",
       "            <p><a href=\"http://MSI:4040\">Spark UI</a></p>\n",
       "\n",
       "            <dl>\n",
       "              <dt>Version</dt>\n",
       "                <dd><code>v3.0.3</code></dd>\n",
       "              <dt>Master</dt>\n",
       "                <dd><code>local[*]</code></dd>\n",
       "              <dt>AppName</dt>\n",
       "                <dd><code>retail-database-analysis-python</code></dd>\n",
       "            </dl>\n",
       "        </div>\n",
       "        "
      ],
      "text/plain": [
       "<SparkContext master=local[*] appName=retail-database-analysis-python>"
      ]
     },
     "execution_count": 26,
     "metadata": {},
     "output_type": "execute_result"
    }
   ],
   "source": [
    "sc = spark.sparkContext\n",
    "sc"
   ]
  },
  {
   "cell_type": "code",
   "execution_count": null,
   "id": "bd5b1896",
   "metadata": {},
   "outputs": [],
   "source": []
  }
 ],
 "metadata": {
  "kernelspec": {
   "display_name": "Python 3 (ipykernel)",
   "language": "python",
   "name": "python3"
  },
  "language_info": {
   "codemirror_mode": {
    "name": "ipython",
    "version": 3
   },
   "file_extension": ".py",
   "mimetype": "text/x-python",
   "name": "python",
   "nbconvert_exporter": "python",
   "pygments_lexer": "ipython3",
   "version": "3.8.8"
  }
 },
 "nbformat": 4,
 "nbformat_minor": 5
}
